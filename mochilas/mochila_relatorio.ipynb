{
 "cells": [
  {
   "cell_type": "markdown",
   "metadata": {},
   "source": [
    "# Relatório da mochila\n",
    "\n",
    "Este relatório tem como proposta fazer testes de carga nos diferentes códigos da Mochila Heurística, para isso o número de items N será variado de 100 a 3000 items.\n",
    "\n",
    "1. Mochila Gulosa\n",
    "    Consiste em fazer a mochila pegar os items mais caros até que ela chegue ao seu máximo\n",
    "2. Mochila Leve\n",
    "    Consiste em fazer a mochila pegar os items mais leves até que ela chegue ao seu máximo\n",
    "3. Mochila Randomica\n",
    "    Consiste em fazer a mochila pegar os items da forma que for inserido, porém alguns de forma randomica.\n",
    "4. Mochila Exaustiva\n",
    "    Consiste em fazer a mochila criar uma versão diferente dela para cada vez que ela for tomar uma decisão possível dentro de seus limites de peso.\n",
    "\n",
    "## Problema da Mochila\n",
    "\n",
    "Existe uma mochila mágica, a qual, dado um peso máximo, é possivel colocar qualquer quantidade de items dentro, até que seu máximo peso seja alcançado. Items de diversos pesos e valores são postos a disposisão para que você tome a decisão de quais items por dentro dela, um código pode ajudar na tomada de decisão, descubra qual a estratégia mais eficiente:\n",
    "\n",
    "A seguir mostrarei os gráficos das 4 implementações que fizemos e que resolvem o [Problema da Mochila](https://pt.wikipedia.org/wiki/Problema_da_mochila). \n",
    "\n",
    "1. `mochila_gulosa.cpp` - implementação que pega os items mais caros\n",
    "1. `mochila_leve.cpp` - implementação que pega os items mais leves\n",
    "2. `mochila_rando.cpp` - implementação que pega os items randomizados\n",
    "2. `mochila_exaustiva.cpp` - implementação que cria copias de si para achar qual a melhor\n",
    "\n",
    "A ideia é que consigamos ver quem é o código mais rápido e o código que entrega o melhor valor. Para que assim possamos decidir o mais eficiente dentre todos os outros."
   ]
  },
  {
   "cell_type": "markdown",
   "metadata": {},
   "source": [
    " \n",
    "```Usarei o código a seguir para gerar os inputs necessários para os testes de carga.```"
   ]
  },
  {
   "cell_type": "code",
   "execution_count": 3,
   "metadata": {},
   "outputs": [],
   "source": [
    "import random\n",
    "for j in range(10,100,10):\n",
    "        for i in range(100,3000,250):\n",
    "                file = f'./testes_mochila/in_{str(j)}_{str(i)}.txt'\n",
    "                f = open(file, 'w')\n",
    "                seq=[str(i)+' '+str(j)+'\\n']\n",
    "                for _ in range(i):\n",
    "                        seq.append(f'{random.randint(1,31)} {random.randint(1,11)}\\n')\n",
    "                f.writelines(seq)\n",
    "                f.close()"
   ]
  },
  {
   "cell_type": "code",
   "execution_count": 28,
   "metadata": {
    "tags": [
     "outputPrepend"
    ]
   },
   "outputs": [],
   "source": [
    "import subprocess\n",
    "import time\n",
    "\n",
    "def calc_time(mochila,quant_items,max_quant):\n",
    "    proc = \"defaut error\"\n",
    "    with open(f'./testes_mochila/in_{quant_items}_{max_quant}.txt') as f:\n",
    "        start = time.perf_counter()\n",
    "        proc = subprocess.run([f'./{mochila}'], input=f.read(), text=True, capture_output=True)\n",
    "        end = time.perf_counter()\n",
    "    if proc.stderr=='':\n",
    "        return end - start, proc.stdout\n",
    "    else:\n",
    "        raise ValueError(f'[ERROR] proc: {proc}')\n",
    "    \n",
    "        # print('Saída:', proc.stdout)\n",
    "        # print('Stderr:', proc.stderr)\n",
    "        # print('Tempo total(s):', end - start)\n",
    "DB_mochilas = {}\n",
    "for mochila in ['MG','ML','MR','ME']:\n",
    "    list_max_capac = []\n",
    "    for j in range(10,100,10):\n",
    "        list_items = []\n",
    "        for i in range(100,3000,250):\n",
    "            t, result = calc_time(mochila,j,i)\n",
    "            list_items.append(t)\n",
    "        list_max_capac.append(list_items)\n",
    "    DB_mochilas[mochila] = list_max_capac\n",
    "        \n",
    "\n",
    "        "
   ]
  },
  {
   "cell_type": "code",
   "execution_count": 29,
   "metadata": {},
   "outputs": [
    {
     "name": "stdout",
     "output_type": "stream",
     "text": [
      "0.009834313066676259\n"
     ]
    }
   ],
   "source": []
  },
  {
   "cell_type": "code",
   "execution_count": null,
   "metadata": {},
   "outputs": [],
   "source": []
  }
 ],
 "metadata": {
  "kernelspec": {
   "display_name": "Python 3",
   "language": "python",
   "name": "python3"
  },
  "language_info": {
   "codemirror_mode": {
    "name": "ipython",
    "version": 3
   },
   "file_extension": ".py",
   "mimetype": "text/x-python",
   "name": "python",
   "nbconvert_exporter": "python",
   "pygments_lexer": "ipython3",
   "version": "3.8.10"
  }
 },
 "nbformat": 4,
 "nbformat_minor": 4
}
